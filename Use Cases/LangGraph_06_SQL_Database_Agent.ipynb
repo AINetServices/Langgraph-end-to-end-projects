{
  "cells": [
    {
      "cell_type": "markdown",
      "metadata": {
        "id": "Ks39vkjEOM6P"
      },
      "source": [
        "Source and Credit : https://langchain-ai.github.io/langgraph/tutorials/sql-agent/\n",
        "\n",
        "At a high level, the agent will:\n",
        "\n",
        "1. Fetch the available tables from the database\n",
        "2. Decide which tables are relevant to the question\n",
        "3. Fetch the DDL for the relevant tables\n",
        "4. Generate a query based on the question and information from the DDL\n",
        "5. Double-check the query for common mistakes using an LLM\n",
        "6. Execute the query and return the results\n",
        "7. Correct mistakes surfaced by the database engine until the query is successful\n",
        "8. Formulate a response based on the results\n"
      ]
    },
    {
      "cell_type": "code",
      "execution_count": 1,
      "metadata": {
        "id": "LfIaJHnREZ9p"
      },
      "outputs": [
        {
          "name": "stderr",
          "output_type": "stream",
          "text": [
            "WARNING: You are using pip version 21.2.3; however, version 25.2 is available.\n",
            "You should consider upgrading via the 'C:\\Users\\chris\\AppData\\Local\\Programs\\Python\\Python310\\python.exe -m pip install --upgrade pip' command.\n"
          ]
        }
      ],
      "source": [
        "%%capture --no-stderr --no-display\n",
        "!pip install langgraph langchain_community langchain_openai"
      ]
    },
    {
      "cell_type": "code",
      "execution_count": null,
      "metadata": {
        "id": "xr1kpAR9ElqD"
      },
      "outputs": [],
      "source": [
        "from google.colab import userdata\n",
        "import os\n",
        "os.environ[\"GROQ_API_KEY\"] = userdata.get('GROQ_API__KEY')"
      ]
    },
    {
      "cell_type": "code",
      "execution_count": null,
      "metadata": {},
      "outputs": [],
      "source": []
    },
    {
      "cell_type": "code",
      "execution_count": 4,
      "metadata": {
        "colab": {
          "base_uri": "https://localhost:8080/"
        },
        "id": "Pob07yNMEIft",
        "outputId": "24434dfd-5b52-4798-cc7d-0970b40f215e"
      },
      "outputs": [
        {
          "name": "stdout",
          "output_type": "stream",
          "text": [
            "File downloaded and saved as Chinook.db\n"
          ]
        }
      ],
      "source": [
        "import requests\n",
        "\n",
        "url = \"https://storage.googleapis.com/benchmarks-artifacts/chinook/Chinook.db\"\n",
        "\n",
        "response = requests.get(url)\n",
        "\n",
        "if response.status_code == 200:\n",
        "    # Open a local file in binary write mode\n",
        "    with open(\"Chinook.db\", \"wb\") as file:\n",
        "        # Write the content of the response (the file) to the local file\n",
        "        file.write(response.content)\n",
        "    print(\"File downloaded and saved as Chinook.db\")\n",
        "else:\n",
        "    print(f\"Failed to download the file. Status code: {response.status_code}\")"
      ]
    },
    {
      "cell_type": "code",
      "execution_count": 5,
      "metadata": {
        "colab": {
          "base_uri": "https://localhost:8080/",
          "height": 70
        },
        "id": "Gt15wQccEOPN",
        "outputId": "45b81ffb-cea6-430c-c287-0e53f7be2c38"
      },
      "outputs": [
        {
          "name": "stdout",
          "output_type": "stream",
          "text": [
            "sqlite\n",
            "['Album', 'Artist', 'Customer', 'Employee', 'Genre', 'Invoice', 'InvoiceLine', 'MediaType', 'Playlist', 'PlaylistTrack', 'Track']\n"
          ]
        },
        {
          "data": {
            "text/plain": [
              "\"[(1, 'AC/DC'), (2, 'Accept'), (3, 'Aerosmith'), (4, 'Alanis Morissette'), (5, 'Alice In Chains'), (6, 'Antônio Carlos Jobim'), (7, 'Apocalyptica'), (8, 'Audioslave'), (9, 'BackBeat'), (10, 'Billy Cobham')]\""
            ]
          },
          "execution_count": 5,
          "metadata": {},
          "output_type": "execute_result"
        }
      ],
      "source": [
        "from langchain_community.utilities import SQLDatabase\n",
        "\n",
        "db = SQLDatabase.from_uri(\"sqlite:///Chinook.db\")\n",
        "print(db.dialect)\n",
        "print(db.get_usable_table_names())\n",
        "db.run(\"SELECT * FROM Artist LIMIT 10;\")"
      ]
    },
    {
      "cell_type": "code",
      "execution_count": 6,
      "metadata": {
        "id": "u4FncDzpEgIx"
      },
      "outputs": [
        {
          "name": "stderr",
          "output_type": "stream",
          "text": [
            "c:\\Users\\chris\\AppData\\Local\\Programs\\Python\\Python310\\lib\\site-packages\\tqdm\\auto.py:21: TqdmWarning: IProgress not found. Please update jupyter and ipywidgets. See https://ipywidgets.readthedocs.io/en/stable/user_install.html\n",
            "  from .autonotebook import tqdm as notebook_tqdm\n"
          ]
        }
      ],
      "source": [
        "from typing import Any\n",
        "\n",
        "from langchain_core.messages import ToolMessage\n",
        "from langchain_core.runnables import RunnableLambda, RunnableWithFallbacks\n",
        "from langgraph.prebuilt import ToolNode\n",
        "\n",
        "\n",
        "def create_tool_node_with_fallback(tools: list) -> RunnableWithFallbacks[Any, dict]:\n",
        "    \"\"\"\n",
        "    Create a ToolNode with a fallback to handle errors and surface them to the agent.\n",
        "    \"\"\"\n",
        "    return ToolNode(tools).with_fallbacks(\n",
        "        [RunnableLambda(handle_tool_error)], exception_key=\"error\"\n",
        "    )\n",
        "\n",
        "\n",
        "def handle_tool_error(state) -> dict:\n",
        "    error = state.get(\"error\")\n",
        "    tool_calls = state[\"messages\"][-1].tool_calls\n",
        "    return {\n",
        "        \"messages\": [\n",
        "            ToolMessage(\n",
        "                content=f\"Error: {repr(error)}\\n please fix your mistakes.\",\n",
        "                tool_call_id=tc[\"id\"],\n",
        "            )\n",
        "            for tc in tool_calls\n",
        "        ]\n",
        "    }"
      ]
    },
    {
      "cell_type": "code",
      "execution_count": 9,
      "metadata": {
        "colab": {
          "base_uri": "https://localhost:8080/"
        },
        "id": "Bu0vLJPLFEnv",
        "outputId": "576533a0-dd09-4384-c5eb-97bf8664b1f7"
      },
      "outputs": [
        {
          "name": "stdout",
          "output_type": "stream",
          "text": [
            "Album, Artist, Customer, Employee, Genre, Invoice, InvoiceLine, MediaType, Playlist, PlaylistTrack, Track\n",
            "\n",
            "CREATE TABLE \"Artist\" (\n",
            "\t\"ArtistId\" INTEGER NOT NULL, \n",
            "\t\"Name\" NVARCHAR(120), \n",
            "\tPRIMARY KEY (\"ArtistId\")\n",
            ")\n",
            "\n",
            "/*\n",
            "3 rows from Artist table:\n",
            "ArtistId\tName\n",
            "1\tAC/DC\n",
            "2\tAccept\n",
            "3\tAerosmith\n",
            "*/\n"
          ]
        }
      ],
      "source": [
        "from langchain_community.agent_toolkits import SQLDatabaseToolkit\n",
        "from langchain_openai import ChatOpenAI\n",
        "\n",
        "from langchain_groq import ChatGroq\n",
        "\n",
        "toolkit = SQLDatabaseToolkit(db=db, llm=ChatGroq(\n",
        "        temperature=0,\n",
        "        model_name=\"mixtral-8x7b-32768\",\n",
        "        groq_api_key='GROQ_API_KEY'\n",
        "    ))\n",
        "tools = toolkit.get_tools()\n",
        "\n",
        "list_tables_tool = next(tool for tool in tools if tool.name == \"sql_db_list_tables\")\n",
        "get_schema_tool = next(tool for tool in tools if tool.name == \"sql_db_schema\")\n",
        "\n",
        "print(list_tables_tool.invoke(\"\"))\n",
        "\n",
        "print(get_schema_tool.invoke(\"Artist\"))"
      ]
    },
    {
      "cell_type": "code",
      "execution_count": 11,
      "metadata": {
        "colab": {
          "base_uri": "https://localhost:8080/"
        },
        "id": "lLsTLwoMFO1R",
        "outputId": "af2db46f-868a-40c7-a827-d2a3072582e6"
      },
      "outputs": [
        {
          "name": "stdout",
          "output_type": "stream",
          "text": [
            "[(1, 'AC/DC'), (2, 'Accept'), (3, 'Aerosmith'), (4, 'Alanis Morissette'), (5, 'Alice In Chains'), (6, 'Antônio Carlos Jobim'), (7, 'Apocalyptica'), (8, 'Audioslave'), (9, 'BackBeat'), (10, 'Billy Cobham')]\n"
          ]
        }
      ],
      "source": [
        "from langchain_core.tools import tool\n",
        "\n",
        "\n",
        "@tool\n",
        "def db_query_tool(query: str) -> str:\n",
        "    \"\"\"\n",
        "    Execute a SQL query against the database and get back the result.\n",
        "    If the query is not correct, an error message will be returned.\n",
        "    If an error is returned, rewrite the query, check the query, and try again.\n",
        "    \"\"\"\n",
        "    result = db.run_no_throw(query)\n",
        "    if not result:\n",
        "        return \"Error: Query failed. Please rewrite your query and try again.\"\n",
        "    return result\n",
        "\n",
        "\n",
        "print(db_query_tool.invoke(\"SELECT * FROM Artist LIMIT 10;\"))"
      ]
    },
    {
      "cell_type": "code",
      "execution_count": 13,
      "metadata": {
        "id": "WJYzlG4_F86A"
      },
      "outputs": [],
      "source": [
        "from langchain_openai import ChatOpenAI\n",
        "from langchain_groq import ChatGroq\n",
        "\n",
        "llm = ChatGroq(\n",
        "        temperature=0,\n",
        "        model_name=\"mixtral-8x7b-32768\",\n",
        "        groq_api_key='GROQ_API_KEY'\n",
        "    )"
      ]
    },
    {
      "cell_type": "code",
      "execution_count": null,
      "metadata": {
        "colab": {
          "base_uri": "https://localhost:8080/"
        },
        "id": "4YMwOYEoFgBd",
        "outputId": "05462479-d72a-48e2-cb29-04f9bd9d4fdc"
      },
      "outputs": [
        {
          "name": "stdout",
          "output_type": "stream",
          "text": [
            "content=\"The provided SQLite query appears to be a simple SELECT statement with a LIMIT clause. \\n\\n```sql\\nSELECT * FROM Artist LIMIT 5;\\n```\\n\\nThis query does not contain any of the common mistakes mentioned, such as using NOT IN with NULL values, UNION instead of UNION ALL, BETWEEN for exclusive ranges, data type mismatch, incorrect quoting of identifiers, incorrect number of arguments for functions, incorrect casting, or incorrect columns for joins.\\n\\nThe query is well-formed and should execute without any issues. It will return the first 5 rows from the 'Artist' table. \\n\\nPlease proceed with executing the query using the appropriate tool.\" additional_kwargs={} response_metadata={'token_usage': {'completion_tokens': 127, 'prompt_tokens': 171, 'total_tokens': 298, 'completion_time': 0.350583311, 'prompt_time': 0.020363701, 'queue_time': 0.20378319, 'total_time': 0.370947012}, 'model_name': 'llama-3.3-70b-versatile', 'system_fingerprint': 'fp_2ddfbb0da0', 'service_tier': 'on_demand', 'finish_reason': 'stop', 'logprobs': None} id='run--54036017-bf45-441b-98ba-adf405fb8a87-0' usage_metadata={'input_tokens': 171, 'output_tokens': 127, 'total_tokens': 298}\n"
          ]
        }
      ],
      "source": [
        "from langchain_groq import ChatGroq\n",
        "from langchain_core.prompts import ChatPromptTemplate\n",
        "import os\n",
        "\n",
        "# Set your Groq API key\n",
        "os.environ['GROQ_API_KEY'] = ' '  # Replace with your actual key\n",
        "\n",
        "# Initialize Groq LLM\n",
        "llm = ChatGroq(\n",
        "    temperature=0,\n",
        "    model_name=\"llama-3.3-70b-versatile\",  # or \"llama3-70b-8192\", \"gemma-7b-it\"\n",
        "    groq_api_key=os.environ.get('GROQ_API_KEY')\n",
        ")\n",
        "\n",
        "query_check_system = \"\"\"You are a SQL expert with a strong attention to detail.\n",
        "Double check the SQLite query for common mistakes, including:\n",
        "- Using NOT IN with NULL values\n",
        "- Using UNION when UNION ALL should have been used\n",
        "- Using BETWEEN for exclusive ranges\n",
        "- Data type mismatch in predicates\n",
        "- Properly quoting identifiers\n",
        "- Using the correct number of arguments for functions\n",
        "- Casting to the correct data type\n",
        "- Using the proper columns for joins\n",
        "\n",
        "If there are any of the above mistakes, rewrite the query. If there are no mistakes, just reproduce the original query.\n",
        "\n",
        "You will call the appropriate tool to execute the query after running this check.\"\"\"\n",
        "\n",
        "query_check_prompt = ChatPromptTemplate.from_messages(\n",
        "    [(\"system\", query_check_system), (\"placeholder\", \"{messages}\")]\n",
        ")\n",
        "\n",
        "# Assuming you have a db_query_tool defined somewhere\n",
        "# If not, you'll need to define it or remove the bind_tools part\n",
        "\n",
        "query_check = query_check_prompt | llm  # Remove bind_tools if you don't have the tool defined\n",
        "\n",
        "# Now this should work without authentication errors\n",
        "result = query_check.invoke({\"messages\": [(\"user\", \"SELECT * FROM Artist LIMIT 5;\")]})\n",
        "print(result)"
      ]
    },
    {
      "cell_type": "code",
      "execution_count": 18,
      "metadata": {
        "id": "7UYYZsQVGEU5"
      },
      "outputs": [
        {
          "name": "stderr",
          "output_type": "stream",
          "text": [
            "C:\\Users\\chris\\AppData\\Roaming\\Python\\Python310\\site-packages\\IPython\\core\\interactiveshell.py:3579: LangChainDeprecationWarning: As of langchain-core 0.3.0, LangChain uses pydantic v2 internally. The langchain_core.pydantic_v1 module was a compatibility shim for pydantic v1, and should no longer be used. Please update the code to import from Pydantic directly.\n",
            "\n",
            "For example, replace imports like: `from langchain_core.pydantic_v1 import BaseModel`\n",
            "with: `from pydantic import BaseModel`\n",
            "or the v1 compatibility namespace if you are working in a code base that has not been fully upgraded to pydantic 2 yet. \tfrom pydantic.v1 import BaseModel\n",
            "\n",
            "  exec(code_obj, self.user_global_ns, self.user_ns)\n"
          ]
        },
        {
          "data": {
            "text/plain": [
              "<langgraph.graph.state.StateGraph at 0x23683258ee0>"
            ]
          },
          "execution_count": 18,
          "metadata": {},
          "output_type": "execute_result"
        }
      ],
      "source": [
        "from typing import Annotated, Literal\n",
        "\n",
        "from langchain_core.messages import AIMessage\n",
        "from langchain_core.pydantic_v1 import BaseModel, Field\n",
        "from langchain_openai import ChatOpenAI\n",
        "from langchain_groq import ChatGroq\n",
        "from typing_extensions import TypedDict\n",
        "\n",
        "from langgraph.graph import END, StateGraph, START\n",
        "from langgraph.graph.message import AnyMessage, add_messages\n",
        "\n",
        "# Define the state for the agent\n",
        "class State(TypedDict):\n",
        "    messages: Annotated[list[AnyMessage], add_messages]\n",
        "\n",
        "\n",
        "# Define a new graph\n",
        "workflow = StateGraph(State)\n",
        "\n",
        "# Add a node for the first tool call\n",
        "def first_tool_call(state: State) -> dict[str, list[AIMessage]]:\n",
        "    return {\n",
        "        \"messages\": [\n",
        "            AIMessage(\n",
        "                content=\"\",\n",
        "                tool_calls=[\n",
        "                    {\n",
        "                        \"name\": \"sql_db_list_tables\",\n",
        "                        \"args\": {},\n",
        "                        \"id\": \"tool_abcd123\",\n",
        "                    }\n",
        "                ],\n",
        "            )\n",
        "        ]\n",
        "    }\n",
        "\n",
        "\n",
        "def model_check_query(state: State) -> dict[str, list[AIMessage]]:\n",
        "    \"\"\"\n",
        "    Use this tool to double-check if your query is correct before executing it.\n",
        "    \"\"\"\n",
        "    return {\"messages\": [query_check.invoke({\"messages\": [state[\"messages\"][-1]]})]}\n",
        "\n",
        "workflow.add_node(\"first_tool_call\", first_tool_call)"
      ]
    },
    {
      "cell_type": "code",
      "execution_count": 19,
      "metadata": {
        "id": "lombALSRT_N-"
      },
      "outputs": [
        {
          "data": {
            "text/plain": [
              "<langgraph.graph.state.StateGraph at 0x23683258ee0>"
            ]
          },
          "execution_count": 19,
          "metadata": {},
          "output_type": "execute_result"
        }
      ],
      "source": [
        "# Add nodes for the first two tools\n",
        "workflow.add_node(\n",
        "    \"list_tables_tool\", create_tool_node_with_fallback([list_tables_tool])\n",
        ")\n",
        "workflow.add_node(\"get_schema_tool\", create_tool_node_with_fallback([get_schema_tool]))\n",
        "\n",
        "# Add a node for a model to choose the relevant tables based on the question and available tables\n",
        "model_get_schema = llm.bind_tools(\n",
        "    [get_schema_tool]\n",
        ")\n",
        "workflow.add_node(\n",
        "    \"model_get_schema\",\n",
        "    lambda state: {\n",
        "        \"messages\": [model_get_schema.invoke(state[\"messages\"])],\n",
        "    },\n",
        ")\n"
      ]
    },
    {
      "cell_type": "code",
      "execution_count": 20,
      "metadata": {
        "id": "pXCuO6aVU9pp"
      },
      "outputs": [],
      "source": [
        "# Describe a tool to represent the end state\n",
        "class SubmitFinalAnswer(BaseModel):\n",
        "    \"\"\"Submit the final answer to the user based on the query results.\"\"\"\n",
        "\n",
        "    final_answer: str = Field(..., description=\"The final answer to the user\")\n",
        "\n",
        "\n",
        "# Add a node for a model to generate a query based on the question and schema\n",
        "query_gen_system = \"\"\"You are a SQL expert with a strong attention to detail.\n",
        "\n",
        "Given an input question, output a syntactically correct SQLite query to run, then look at the results of the query and return the answer.\n",
        "\n",
        "DO NOT call any tool besides SubmitFinalAnswer to submit the final answer.\n",
        "\n",
        "When generating the query:\n",
        "\n",
        "Output the SQL query that answers the input question without a tool call.\n",
        "\n",
        "Unless the user specifies a specific number of examples they wish to obtain, always limit your query to at most 5 results.\n",
        "You can order the results by a relevant column to return the most interesting examples in the database.\n",
        "Never query for all the columns from a specific table, only ask for the relevant columns given the question.\n",
        "\n",
        "If you get an error while executing a query, rewrite the query and try again.\n",
        "\n",
        "If you get an empty result set, you should try to rewrite the query to get a non-empty result set.\n",
        "NEVER make stuff up if you don't have enough information to answer the query... just say you don't have enough information.\n",
        "\n",
        "If you have enough information to answer the input question, simply invoke the appropriate tool to submit the final answer to the user.\n",
        "\n",
        "DO NOT make any DML statements (INSERT, UPDATE, DELETE, DROP etc.) to the database.\"\"\"\n",
        "query_gen_prompt = ChatPromptTemplate.from_messages(\n",
        "    [(\"system\", query_gen_system), (\"placeholder\", \"{messages}\")]\n",
        ")\n",
        "query_gen = query_gen_prompt | llm.bind_tools(\n",
        "    [SubmitFinalAnswer]\n",
        ")\n",
        "\n",
        "\n",
        "def query_gen_node(state: State):\n",
        "    message = query_gen.invoke(state)\n",
        "\n",
        "    # Sometimes, the LLM will hallucinate and call the wrong tool. We need to catch this and return an error message.\n",
        "    tool_messages = []\n",
        "    if message.tool_calls:\n",
        "        for tc in message.tool_calls:\n",
        "            if tc[\"name\"] != \"SubmitFinalAnswer\":\n",
        "                tool_messages.append(\n",
        "                    ToolMessage(\n",
        "                        content=f\"Error: The wrong tool was called: {tc['name']}. Please fix your mistakes. Remember to only call SubmitFinalAnswer to submit the final answer. Generated queries should be outputted WITHOUT a tool call.\",\n",
        "                        tool_call_id=tc[\"id\"],\n",
        "                    )\n",
        "                )\n",
        "    else:\n",
        "        tool_messages = []\n",
        "    return {\"messages\": [message] + tool_messages}\n",
        "\n",
        "\n",
        "workflow.add_node(\"query_gen\", query_gen_node)\n",
        "\n",
        "# Add a node for the model to check the query before executing it\n",
        "workflow.add_node(\"correct_query\", model_check_query)\n",
        "\n",
        "# Add node for executing the query\n",
        "workflow.add_node(\"execute_query\", create_tool_node_with_fallback([db_query_tool]))\n",
        "\n",
        "\n",
        "# Define a conditional edge to decide whether to continue or end the workflow\n",
        "def should_continue(state: State) -> Literal[END, \"correct_query\", \"query_gen\"]:\n",
        "    messages = state[\"messages\"]\n",
        "    last_message = messages[-1]\n",
        "    # If there is a tool call, then we finish\n",
        "    if getattr(last_message, \"tool_calls\", None):\n",
        "        return END\n",
        "    if last_message.content.startswith(\"Error:\"):\n",
        "        return \"query_gen\"\n",
        "    else:\n",
        "        return \"correct_query\"\n",
        "\n",
        "\n",
        "# Specify the edges between the nodes\n",
        "workflow.add_edge(START, \"first_tool_call\")\n",
        "workflow.add_edge(\"first_tool_call\", \"list_tables_tool\")\n",
        "workflow.add_edge(\"list_tables_tool\", \"model_get_schema\")\n",
        "workflow.add_edge(\"model_get_schema\", \"get_schema_tool\")\n",
        "workflow.add_edge(\"get_schema_tool\", \"query_gen\")\n",
        "workflow.add_conditional_edges(\n",
        "    \"query_gen\",\n",
        "    should_continue,\n",
        ")\n",
        "workflow.add_edge(\"correct_query\", \"execute_query\")\n",
        "workflow.add_edge(\"execute_query\", \"query_gen\")\n",
        "\n",
        "# Compile the workflow into a runnable\n",
        "app = workflow.compile()"
      ]
    },
    {
      "cell_type": "code",
      "execution_count": 21,
      "metadata": {
        "colab": {
          "base_uri": "https://localhost:8080/",
          "height": 656
        },
        "id": "ZYKvoEETVGPT",
        "outputId": "1241b304-28af-4823-aac0-398362ac42bc"
      },
      "outputs": [
        {
          "data": {
            "image/png": "[encoded data removed]",
            "text/plain": [
              "<IPython.core.display.Image object>"
            ]
          },
          "metadata": {},
          "output_type": "display_data"
        }
      ],
      "source": [
        "from IPython.display import Image, display\n",
        "from langchain_core.runnables.graph import MermaidDrawMethod\n",
        "\n",
        "display(\n",
        "    Image(\n",
        "        app.get_graph().draw_mermaid_png(\n",
        "            draw_method=MermaidDrawMethod.API,\n",
        "        )\n",
        "    )\n",
        ")"
      ]
    },
    {
      "cell_type": "code",
      "execution_count": 22,
      "metadata": {
        "colab": {
          "base_uri": "https://localhost:8080/"
        },
        "id": "S_qzXxthV2rr",
        "outputId": "f07d63cf-6241-4c6b-f441-b0a18d7f53e6"
      },
      "outputs": [
        {
          "name": "stdout",
          "output_type": "stream",
          "text": [
            "{'first_tool_call': {'messages': [AIMessage(content='', additional_kwargs={}, response_metadata={}, id='24629480-0012-4c2e-8947-e0dab92fef60', tool_calls=[{'name': 'sql_db_list_tables', 'args': {}, 'id': 'tool_abcd123', 'type': 'tool_call'}])]}}\n",
            "{'list_tables_tool': {'messages': [ToolMessage(content='Album, Artist, Customer, Employee, Genre, Invoice, InvoiceLine, MediaType, Playlist, PlaylistTrack, Track', name='sql_db_list_tables', id='a8ca327f-9f8f-479e-abbd-d35461abede4', tool_call_id='tool_abcd123')]}}\n",
            "{'model_get_schema': {'messages': [AIMessage(content='', additional_kwargs={'tool_calls': [{'id': '8pebmzmvn', 'function': {'arguments': '{\"table_names\":\"Employee, Customer, Invoice\"}', 'name': 'sql_db_schema'}, 'type': 'function'}]}, response_metadata={'token_usage': {'completion_tokens': 22, 'prompt_tokens': 391, 'total_tokens': 413, 'completion_time': 0.062342553, 'prompt_time': 0.042908566, 'queue_time': 0.198543432, 'total_time': 0.105251119}, 'model_name': 'llama-3.3-70b-versatile', 'system_fingerprint': 'fp_3f3b593e33', 'service_tier': 'on_demand', 'finish_reason': 'tool_calls', 'logprobs': None}, id='run--c9e15dda-c824-4821-8ae6-9c6e2ffdec40-0', tool_calls=[{'name': 'sql_db_schema', 'args': {'table_names': 'Employee, Customer, Invoice'}, 'id': '8pebmzmvn', 'type': 'tool_call'}], usage_metadata={'input_tokens': 391, 'output_tokens': 22, 'total_tokens': 413})]}}\n",
            "{'get_schema_tool': {'messages': [ToolMessage(content='\\nCREATE TABLE \"Customer\" (\\n\\t\"CustomerId\" INTEGER NOT NULL, \\n\\t\"FirstName\" NVARCHAR(40) NOT NULL, \\n\\t\"LastName\" NVARCHAR(20) NOT NULL, \\n\\t\"Company\" NVARCHAR(80), \\n\\t\"Address\" NVARCHAR(70), \\n\\t\"City\" NVARCHAR(40), \\n\\t\"State\" NVARCHAR(40), \\n\\t\"Country\" NVARCHAR(40), \\n\\t\"PostalCode\" NVARCHAR(10), \\n\\t\"Phone\" NVARCHAR(24), \\n\\t\"Fax\" NVARCHAR(24), \\n\\t\"Email\" NVARCHAR(60) NOT NULL, \\n\\t\"SupportRepId\" INTEGER, \\n\\tPRIMARY KEY (\"CustomerId\"), \\n\\tFOREIGN KEY(\"SupportRepId\") REFERENCES \"Employee\" (\"EmployeeId\")\\n)\\n\\n/*\\n3 rows from Customer table:\\nCustomerId\\tFirstName\\tLastName\\tCompany\\tAddress\\tCity\\tState\\tCountry\\tPostalCode\\tPhone\\tFax\\tEmail\\tSupportRepId\\n1\\tLuís\\tGonçalves\\tEmbraer - Empresa Brasileira de Aeronáutica S.A.\\tAv. Brigadeiro Faria Lima, 2170\\tSão José dos Campos\\tSP\\tBrazil\\t12227-000\\t+55 (12) 3923-5555\\t+55 (12) 3923-5566\\tluisg@embraer.com.br\\t3\\n2\\tLeonie\\tKöhler\\tNone\\tTheodor-Heuss-Straße 34\\tStuttgart\\tNone\\tGermany\\t70174\\t+49 0711 2842222\\tNone\\tleonekohler@surfeu.de\\t5\\n3\\tFrançois\\tTremblay\\tNone\\t1498 rue Bélanger\\tMontréal\\tQC\\tCanada\\tH2G 1A7\\t+1 (514) 721-4711\\tNone\\tftremblay@gmail.com\\t3\\n*/\\n\\n\\nCREATE TABLE \"Employee\" (\\n\\t\"EmployeeId\" INTEGER NOT NULL, \\n\\t\"LastName\" NVARCHAR(20) NOT NULL, \\n\\t\"FirstName\" NVARCHAR(20) NOT NULL, \\n\\t\"Title\" NVARCHAR(30), \\n\\t\"ReportsTo\" INTEGER, \\n\\t\"BirthDate\" DATETIME, \\n\\t\"HireDate\" DATETIME, \\n\\t\"Address\" NVARCHAR(70), \\n\\t\"City\" NVARCHAR(40), \\n\\t\"State\" NVARCHAR(40), \\n\\t\"Country\" NVARCHAR(40), \\n\\t\"PostalCode\" NVARCHAR(10), \\n\\t\"Phone\" NVARCHAR(24), \\n\\t\"Fax\" NVARCHAR(24), \\n\\t\"Email\" NVARCHAR(60), \\n\\tPRIMARY KEY (\"EmployeeId\"), \\n\\tFOREIGN KEY(\"ReportsTo\") REFERENCES \"Employee\" (\"EmployeeId\")\\n)\\n\\n/*\\n3 rows from Employee table:\\nEmployeeId\\tLastName\\tFirstName\\tTitle\\tReportsTo\\tBirthDate\\tHireDate\\tAddress\\tCity\\tState\\tCountry\\tPostalCode\\tPhone\\tFax\\tEmail\\n1\\tAdams\\tAndrew\\tGeneral Manager\\tNone\\t1962-02-18 00:00:00\\t2002-08-14 00:00:00\\t11120 Jasper Ave NW\\tEdmonton\\tAB\\tCanada\\tT5K 2N1\\t+1 (780) 428-9482\\t+1 (780) 428-3457\\tandrew@chinookcorp.com\\n2\\tEdwards\\tNancy\\tSales Manager\\t1\\t1958-12-08 00:00:00\\t2002-05-01 00:00:00\\t825 8 Ave SW\\tCalgary\\tAB\\tCanada\\tT2P 2T3\\t+1 (403) 262-3443\\t+1 (403) 262-3322\\tnancy@chinookcorp.com\\n3\\tPeacock\\tJane\\tSales Support Agent\\t2\\t1973-08-29 00:00:00\\t2002-04-01 00:00:00\\t1111 6 Ave SW\\tCalgary\\tAB\\tCanada\\tT2P 5M5\\t+1 (403) 262-3443\\t+1 (403) 262-6712\\tjane@chinookcorp.com\\n*/\\n\\n\\nCREATE TABLE \"Invoice\" (\\n\\t\"InvoiceId\" INTEGER NOT NULL, \\n\\t\"CustomerId\" INTEGER NOT NULL, \\n\\t\"InvoiceDate\" DATETIME NOT NULL, \\n\\t\"BillingAddress\" NVARCHAR(70), \\n\\t\"BillingCity\" NVARCHAR(40), \\n\\t\"BillingState\" NVARCHAR(40), \\n\\t\"BillingCountry\" NVARCHAR(40), \\n\\t\"BillingPostalCode\" NVARCHAR(10), \\n\\t\"Total\" NUMERIC(10, 2) NOT NULL, \\n\\tPRIMARY KEY (\"InvoiceId\"), \\n\\tFOREIGN KEY(\"CustomerId\") REFERENCES \"Customer\" (\"CustomerId\")\\n)\\n\\n/*\\n3 rows from Invoice table:\\nInvoiceId\\tCustomerId\\tInvoiceDate\\tBillingAddress\\tBillingCity\\tBillingState\\tBillingCountry\\tBillingPostalCode\\tTotal\\n1\\t2\\t2009-01-01 00:00:00\\tTheodor-Heuss-Straße 34\\tStuttgart\\tNone\\tGermany\\t70174\\t1.98\\n2\\t4\\t2009-01-02 00:00:00\\tUllevålsveien 14\\tOslo\\tNone\\tNorway\\t0171\\t3.96\\n3\\t8\\t2009-01-03 00:00:00\\tGrétrystraat 63\\tBrussels\\tNone\\tBelgium\\t1000\\t5.94\\n*/', name='sql_db_schema', id='57185085-d324-451e-8941-42cb92454a17', tool_call_id='8pebmzmvn')]}}\n",
            "{'query_gen': {'messages': [AIMessage(content=\"SELECT T1.FirstName, T1.LastName, SUM(T2.Total) AS TotalSales FROM Employee AS T1 INNER JOIN Customer AS T3 ON T1.EmployeeId = T3.SupportRepId INNER JOIN Invoice AS T2 ON T3.CustomerId = T2.CustomerId WHERE STRFTIME('%Y', T2.InvoiceDate) = '2009' GROUP BY T1.FirstName, T1.LastName ORDER BY TotalSales DESC LIMIT 1\", additional_kwargs={}, response_metadata={'token_usage': {'completion_tokens': 91, 'prompt_tokens': 1750, 'total_tokens': 1841, 'completion_time': 0.170250618, 'prompt_time': 0.135136183, 'queue_time': 0.198138548, 'total_time': 0.305386801}, 'model_name': 'llama-3.3-70b-versatile', 'system_fingerprint': 'fp_3f3b593e33', 'service_tier': 'on_demand', 'finish_reason': 'stop', 'logprobs': None}, id='run--2cf654d7-2cc0-43cc-b397-6bc2446842dd-0', usage_metadata={'input_tokens': 1750, 'output_tokens': 91, 'total_tokens': 1841})]}}\n",
            "{'correct_query': {'messages': [AIMessage(content='', additional_kwargs={}, response_metadata={'token_usage': {'completion_tokens': 1, 'prompt_tokens': 248, 'total_tokens': 249, 'completion_time': 0.00702158, 'prompt_time': 0.013638068, 'queue_time': None, 'total_time': 0.020659648}, 'model_name': 'llama-3.3-70b-versatile', 'system_fingerprint': 'fp_3f3b593e33', 'service_tier': 'on_demand', 'finish_reason': 'stop', 'logprobs': None}, id='run--eb04ceec-ef4b-4464-b98b-b5afba94bce2-0', usage_metadata={'input_tokens': 248, 'output_tokens': 1, 'total_tokens': 249})]}}\n",
            "{'execute_query': {'messages': []}}\n",
            "{'query_gen': {'messages': [AIMessage(content='', additional_kwargs={'tool_calls': [{'id': '8dhbhwtpz', 'function': {'arguments': '{\"final_answer\":\"Jane Peacock\"}', 'name': 'SubmitFinalAnswer'}, 'type': 'function'}]}, response_metadata={'token_usage': {'completion_tokens': 19, 'prompt_tokens': 1845, 'total_tokens': 1864, 'completion_time': 0.033461166, 'prompt_time': 0.146066816, 'queue_time': 0.201592727, 'total_time': 0.179527982}, 'model_name': 'llama-3.3-70b-versatile', 'system_fingerprint': 'fp_3f3b593e33', 'service_tier': 'on_demand', 'finish_reason': 'tool_calls', 'logprobs': None}, id='run--ed313823-c3c1-461a-9c67-e43cb680208c-0', tool_calls=[{'name': 'SubmitFinalAnswer', 'args': {'final_answer': 'Jane Peacock'}, 'id': '8dhbhwtpz', 'type': 'tool_call'}], usage_metadata={'input_tokens': 1845, 'output_tokens': 19, 'total_tokens': 1864})]}}\n"
          ]
        }
      ],
      "source": [
        "for event in app.stream(\n",
        "    {\"messages\": [(\"user\", \"Which sales agent made the most in sales in 2009?\")]}\n",
        "):\n",
        "    print(event)"
      ]
    }
  ],
  "metadata": {
    "colab": {
      "provenance": []
    },
    "kernelspec": {
      "display_name": "Python 3",
      "name": "python3"
    },
    "language_info": {
      "codemirror_mode": {
        "name": "ipython",
        "version": 3
      },
      "file_extension": ".py",
      "mimetype": "text/x-python",
      "name": "python",
      "nbconvert_exporter": "python",
      "pygments_lexer": "ipython3",
      "version": "3.10.0"
    }
  },
  "nbformat": 4,
  "nbformat_minor": 0
}
